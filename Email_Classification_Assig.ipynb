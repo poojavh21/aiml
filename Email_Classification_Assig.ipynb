{
  "cells": [
    {
      "cell_type": "markdown",
      "metadata": {
        "id": "view-in-github",
        "colab_type": "text"
      },
      "source": [
        "<a href=\"https://colab.research.google.com/github/poojavh21/aiml/blob/main/Email_Classification_Assig.ipynb\" target=\"_parent\"><img src=\"https://colab.research.google.com/assets/colab-badge.svg\" alt=\"Open In Colab\"/></a>"
      ]
    },
    {
      "cell_type": "code",
      "execution_count": null,
      "metadata": {
        "colab": {
          "base_uri": "https://localhost:8080/"
        },
        "id": "_aVS9-jtayki",
        "outputId": "e166d1bd-38ae-4908-f2a6-4a25c92eeccc"
      },
      "outputs": [
        {
          "output_type": "stream",
          "name": "stdout",
          "text": [
            "Mounted at /content/drive\n"
          ]
        }
      ],
      "source": [
        "from google.colab import drive\n",
        "drive.mount('/content/drive')"
      ]
    },
    {
      "cell_type": "code",
      "execution_count": null,
      "metadata": {
        "id": "ZG_wgB0zan5v"
      },
      "outputs": [],
      "source": [
        "import numpy as np\n",
        "import pandas as pd\n",
        "import matplotlib.pyplot as plt"
      ]
    },
    {
      "cell_type": "code",
      "execution_count": null,
      "metadata": {
        "id": "gpDVkAaAaqJW",
        "colab": {
          "base_uri": "https://localhost:8080/",
          "height": 206
        },
        "outputId": "8b46ad93-d7fe-4eb6-979c-79643d4db9a6"
      },
      "outputs": [
        {
          "output_type": "execute_result",
          "data": {
            "text/plain": [
              "                                                text  target\n",
              "0  From ilug-admin@linux.ie Mon Jul 29 11:28:02 2...       0\n",
              "1  From gort44@excite.com Mon Jun 24 17:54:21 200...       1\n",
              "2  From fork-admin@xent.com Mon Jul 29 11:39:57 2...       1\n",
              "3  From dcm123@btamail.net.cn Mon Jun 24 17:49:23...       1\n",
              "4  From ilug-admin@linux.ie Mon Aug 19 11:02:47 2...       0"
            ],
            "text/html": [
              "\n",
              "  <div id=\"df-60185208-90fd-4901-b04c-aa52a112a5cc\" class=\"colab-df-container\">\n",
              "    <div>\n",
              "<style scoped>\n",
              "    .dataframe tbody tr th:only-of-type {\n",
              "        vertical-align: middle;\n",
              "    }\n",
              "\n",
              "    .dataframe tbody tr th {\n",
              "        vertical-align: top;\n",
              "    }\n",
              "\n",
              "    .dataframe thead th {\n",
              "        text-align: right;\n",
              "    }\n",
              "</style>\n",
              "<table border=\"1\" class=\"dataframe\">\n",
              "  <thead>\n",
              "    <tr style=\"text-align: right;\">\n",
              "      <th></th>\n",
              "      <th>text</th>\n",
              "      <th>target</th>\n",
              "    </tr>\n",
              "  </thead>\n",
              "  <tbody>\n",
              "    <tr>\n",
              "      <th>0</th>\n",
              "      <td>From ilug-admin@linux.ie Mon Jul 29 11:28:02 2...</td>\n",
              "      <td>0</td>\n",
              "    </tr>\n",
              "    <tr>\n",
              "      <th>1</th>\n",
              "      <td>From gort44@excite.com Mon Jun 24 17:54:21 200...</td>\n",
              "      <td>1</td>\n",
              "    </tr>\n",
              "    <tr>\n",
              "      <th>2</th>\n",
              "      <td>From fork-admin@xent.com Mon Jul 29 11:39:57 2...</td>\n",
              "      <td>1</td>\n",
              "    </tr>\n",
              "    <tr>\n",
              "      <th>3</th>\n",
              "      <td>From dcm123@btamail.net.cn Mon Jun 24 17:49:23...</td>\n",
              "      <td>1</td>\n",
              "    </tr>\n",
              "    <tr>\n",
              "      <th>4</th>\n",
              "      <td>From ilug-admin@linux.ie Mon Aug 19 11:02:47 2...</td>\n",
              "      <td>0</td>\n",
              "    </tr>\n",
              "  </tbody>\n",
              "</table>\n",
              "</div>\n",
              "    <div class=\"colab-df-buttons\">\n",
              "\n",
              "  <div class=\"colab-df-container\">\n",
              "    <button class=\"colab-df-convert\" onclick=\"convertToInteractive('df-60185208-90fd-4901-b04c-aa52a112a5cc')\"\n",
              "            title=\"Convert this dataframe to an interactive table.\"\n",
              "            style=\"display:none;\">\n",
              "\n",
              "  <svg xmlns=\"http://www.w3.org/2000/svg\" height=\"24px\" viewBox=\"0 -960 960 960\">\n",
              "    <path d=\"M120-120v-720h720v720H120Zm60-500h600v-160H180v160Zm220 220h160v-160H400v160Zm0 220h160v-160H400v160ZM180-400h160v-160H180v160Zm440 0h160v-160H620v160ZM180-180h160v-160H180v160Zm440 0h160v-160H620v160Z\"/>\n",
              "  </svg>\n",
              "    </button>\n",
              "\n",
              "  <style>\n",
              "    .colab-df-container {\n",
              "      display:flex;\n",
              "      gap: 12px;\n",
              "    }\n",
              "\n",
              "    .colab-df-convert {\n",
              "      background-color: #E8F0FE;\n",
              "      border: none;\n",
              "      border-radius: 50%;\n",
              "      cursor: pointer;\n",
              "      display: none;\n",
              "      fill: #1967D2;\n",
              "      height: 32px;\n",
              "      padding: 0 0 0 0;\n",
              "      width: 32px;\n",
              "    }\n",
              "\n",
              "    .colab-df-convert:hover {\n",
              "      background-color: #E2EBFA;\n",
              "      box-shadow: 0px 1px 2px rgba(60, 64, 67, 0.3), 0px 1px 3px 1px rgba(60, 64, 67, 0.15);\n",
              "      fill: #174EA6;\n",
              "    }\n",
              "\n",
              "    .colab-df-buttons div {\n",
              "      margin-bottom: 4px;\n",
              "    }\n",
              "\n",
              "    [theme=dark] .colab-df-convert {\n",
              "      background-color: #3B4455;\n",
              "      fill: #D2E3FC;\n",
              "    }\n",
              "\n",
              "    [theme=dark] .colab-df-convert:hover {\n",
              "      background-color: #434B5C;\n",
              "      box-shadow: 0px 1px 3px 1px rgba(0, 0, 0, 0.15);\n",
              "      filter: drop-shadow(0px 1px 2px rgba(0, 0, 0, 0.3));\n",
              "      fill: #FFFFFF;\n",
              "    }\n",
              "  </style>\n",
              "\n",
              "    <script>\n",
              "      const buttonEl =\n",
              "        document.querySelector('#df-60185208-90fd-4901-b04c-aa52a112a5cc button.colab-df-convert');\n",
              "      buttonEl.style.display =\n",
              "        google.colab.kernel.accessAllowed ? 'block' : 'none';\n",
              "\n",
              "      async function convertToInteractive(key) {\n",
              "        const element = document.querySelector('#df-60185208-90fd-4901-b04c-aa52a112a5cc');\n",
              "        const dataTable =\n",
              "          await google.colab.kernel.invokeFunction('convertToInteractive',\n",
              "                                                    [key], {});\n",
              "        if (!dataTable) return;\n",
              "\n",
              "        const docLinkHtml = 'Like what you see? Visit the ' +\n",
              "          '<a target=\"_blank\" href=https://colab.research.google.com/notebooks/data_table.ipynb>data table notebook</a>'\n",
              "          + ' to learn more about interactive tables.';\n",
              "        element.innerHTML = '';\n",
              "        dataTable['output_type'] = 'display_data';\n",
              "        await google.colab.output.renderOutput(dataTable, element);\n",
              "        const docLink = document.createElement('div');\n",
              "        docLink.innerHTML = docLinkHtml;\n",
              "        element.appendChild(docLink);\n",
              "      }\n",
              "    </script>\n",
              "  </div>\n",
              "\n",
              "\n",
              "<div id=\"df-7e9ae1bc-cac2-462d-b692-50b90ecbbd6f\">\n",
              "  <button class=\"colab-df-quickchart\" onclick=\"quickchart('df-7e9ae1bc-cac2-462d-b692-50b90ecbbd6f')\"\n",
              "            title=\"Suggest charts\"\n",
              "            style=\"display:none;\">\n",
              "\n",
              "<svg xmlns=\"http://www.w3.org/2000/svg\" height=\"24px\"viewBox=\"0 0 24 24\"\n",
              "     width=\"24px\">\n",
              "    <g>\n",
              "        <path d=\"M19 3H5c-1.1 0-2 .9-2 2v14c0 1.1.9 2 2 2h14c1.1 0 2-.9 2-2V5c0-1.1-.9-2-2-2zM9 17H7v-7h2v7zm4 0h-2V7h2v10zm4 0h-2v-4h2v4z\"/>\n",
              "    </g>\n",
              "</svg>\n",
              "  </button>\n",
              "\n",
              "<style>\n",
              "  .colab-df-quickchart {\n",
              "      --bg-color: #E8F0FE;\n",
              "      --fill-color: #1967D2;\n",
              "      --hover-bg-color: #E2EBFA;\n",
              "      --hover-fill-color: #174EA6;\n",
              "      --disabled-fill-color: #AAA;\n",
              "      --disabled-bg-color: #DDD;\n",
              "  }\n",
              "\n",
              "  [theme=dark] .colab-df-quickchart {\n",
              "      --bg-color: #3B4455;\n",
              "      --fill-color: #D2E3FC;\n",
              "      --hover-bg-color: #434B5C;\n",
              "      --hover-fill-color: #FFFFFF;\n",
              "      --disabled-bg-color: #3B4455;\n",
              "      --disabled-fill-color: #666;\n",
              "  }\n",
              "\n",
              "  .colab-df-quickchart {\n",
              "    background-color: var(--bg-color);\n",
              "    border: none;\n",
              "    border-radius: 50%;\n",
              "    cursor: pointer;\n",
              "    display: none;\n",
              "    fill: var(--fill-color);\n",
              "    height: 32px;\n",
              "    padding: 0;\n",
              "    width: 32px;\n",
              "  }\n",
              "\n",
              "  .colab-df-quickchart:hover {\n",
              "    background-color: var(--hover-bg-color);\n",
              "    box-shadow: 0 1px 2px rgba(60, 64, 67, 0.3), 0 1px 3px 1px rgba(60, 64, 67, 0.15);\n",
              "    fill: var(--button-hover-fill-color);\n",
              "  }\n",
              "\n",
              "  .colab-df-quickchart-complete:disabled,\n",
              "  .colab-df-quickchart-complete:disabled:hover {\n",
              "    background-color: var(--disabled-bg-color);\n",
              "    fill: var(--disabled-fill-color);\n",
              "    box-shadow: none;\n",
              "  }\n",
              "\n",
              "  .colab-df-spinner {\n",
              "    border: 2px solid var(--fill-color);\n",
              "    border-color: transparent;\n",
              "    border-bottom-color: var(--fill-color);\n",
              "    animation:\n",
              "      spin 1s steps(1) infinite;\n",
              "  }\n",
              "\n",
              "  @keyframes spin {\n",
              "    0% {\n",
              "      border-color: transparent;\n",
              "      border-bottom-color: var(--fill-color);\n",
              "      border-left-color: var(--fill-color);\n",
              "    }\n",
              "    20% {\n",
              "      border-color: transparent;\n",
              "      border-left-color: var(--fill-color);\n",
              "      border-top-color: var(--fill-color);\n",
              "    }\n",
              "    30% {\n",
              "      border-color: transparent;\n",
              "      border-left-color: var(--fill-color);\n",
              "      border-top-color: var(--fill-color);\n",
              "      border-right-color: var(--fill-color);\n",
              "    }\n",
              "    40% {\n",
              "      border-color: transparent;\n",
              "      border-right-color: var(--fill-color);\n",
              "      border-top-color: var(--fill-color);\n",
              "    }\n",
              "    60% {\n",
              "      border-color: transparent;\n",
              "      border-right-color: var(--fill-color);\n",
              "    }\n",
              "    80% {\n",
              "      border-color: transparent;\n",
              "      border-right-color: var(--fill-color);\n",
              "      border-bottom-color: var(--fill-color);\n",
              "    }\n",
              "    90% {\n",
              "      border-color: transparent;\n",
              "      border-bottom-color: var(--fill-color);\n",
              "    }\n",
              "  }\n",
              "</style>\n",
              "\n",
              "  <script>\n",
              "    async function quickchart(key) {\n",
              "      const quickchartButtonEl =\n",
              "        document.querySelector('#' + key + ' button');\n",
              "      quickchartButtonEl.disabled = true;  // To prevent multiple clicks.\n",
              "      quickchartButtonEl.classList.add('colab-df-spinner');\n",
              "      try {\n",
              "        const charts = await google.colab.kernel.invokeFunction(\n",
              "            'suggestCharts', [key], {});\n",
              "      } catch (error) {\n",
              "        console.error('Error during call to suggestCharts:', error);\n",
              "      }\n",
              "      quickchartButtonEl.classList.remove('colab-df-spinner');\n",
              "      quickchartButtonEl.classList.add('colab-df-quickchart-complete');\n",
              "    }\n",
              "    (() => {\n",
              "      let quickchartButtonEl =\n",
              "        document.querySelector('#df-7e9ae1bc-cac2-462d-b692-50b90ecbbd6f button');\n",
              "      quickchartButtonEl.style.display =\n",
              "        google.colab.kernel.accessAllowed ? 'block' : 'none';\n",
              "    })();\n",
              "  </script>\n",
              "</div>\n",
              "\n",
              "    </div>\n",
              "  </div>\n"
            ],
            "application/vnd.google.colaboratory.intrinsic+json": {
              "type": "dataframe",
              "variable_name": "df",
              "summary": "{\n  \"name\": \"df\",\n  \"rows\": 5796,\n  \"fields\": [\n    {\n      \"column\": \"text\",\n      \"properties\": {\n        \"dtype\": \"string\",\n        \"num_unique_values\": 5329,\n        \"samples\": [\n          \"From miononwifeil@hotmail.com Mon Jun 24 17:07:43 2002 Return-Path: miononwifeil@hotmail.com Delivery-Date: Wed May 29 01:17:30 2002 Received: from mandark.labs.netnoteinc.com ([213.105.180.140]) by dogma.slashnull.org (8.11.6/8.11.6) with ESMTP id g4T0HNO04507 for <jm@jmason.org>; Wed, 29 May 2002 01:17:23 +0100 Received: from teamwork.teamwork-engineering.com (61-222-134-217.HINET-IP.hinet.net [61.222.134.217]) by mandark.labs.netnoteinc.com (8.11.2/8.11.2) with ESMTP id g4T0HH732446; Wed, 29 May 2002 01:17:20 +0100 Received: from mx14.hotmail.com ([64.172.88.155]) by teamwork.teamwork-engineering.com with Microsoft SMTPSVC(5.0.2195.2966); Wed, 29 May 2002 08:15:06 +0800 Message-Id: <000036091a85$00005e6b$00007bb7@mx14.hotmail.com> To: <sales@netnovation.co.za> Cc: <winston@dekalb.net>, <serpent@netnomad.com>, <roberts@netnomics.com>, <wpc@dekalb.net>, <windsong@dekalb.net>, <windsec@dekalb.net>, <widget@dekalb.net>, <weewilly@dekalb.net>, <waynej@dekalb.net>, <rmr@netnook.com>, <wiseowl@dekalb.net>, <wills@dekalb.net>, <jm7@netnoteinc.com>, <debbie@netnoise.net>, <woodbury@dekalb.net>, <weezy@dekalb.net>, <wjle@dekalb.net>, <wheels@dekalb.net>, <gotor@netnow.cl>, <jim@netnoggins.com>, <writeit@dekalb.net>, <willie@dekalb.net>, <webtv@netnook.com>, <wwebster@dekalb.net>, <winnie@dekalb.net>, <whitneys@dekalb.net>, <harryo@netnovels.com>, <wilsonw@dekalb.net>, <emlinux@netnow.cl>, <jftheriault@netnologia.com>, <jm@netnoteinc.com>, <stone@netnomics.com>, <urls@netnode.net>, <reinehr@netnode.com>, <mels@netnorth.net>, <wilmit@dekalb.net>, <donfelipe@netnow.cl>, <alhiggin@netnorth.net>, <wiles@dekalb.net>, <epps@netnomad.com>, <tech@netnode.net>, <wjohnson@dekalb.net> From: \\\"Sally Mcfarlin\\\" <miononwifeil@hotmail.com> Subject: Looking for a second MORTGAGE? 11925 Date: Wed, 29 May 2002 09:47:45 -0300 MIME-Version: 1.0 Reply-To: miononwifeil@hotmail.com X-Originalarrivaltime: 29 May 2002 00:15:08.0093 (UTC) FILETIME=[E3CB7ED0:01C206A5] X-Keywords: Content-Type: text/html; charset=\\\"iso-8859-1\\\" Content-Transfer-Encoding: quoted-printable <html> <head> <title>DEAR HOMEOWNER,</title> <meta http-equiv=3D\\\"Content-Type\\\" content=3D\\\"text/html; charset=3Diso-8859= -1\\\"> </head> <style type=3D\\\"text/css\\\"> main { font-family: Verdana, Arial, Helvetica, sans-serif; font-size: 12= px; color: #212121} footer { font-family: Verdana, Arial, Helvetica, sans-serif; font-size: = 10px; color: #000000} A:link {text-decoration: none; color: #ED1C24} A:visited {text-decoration: none; color: #ED1C24} A:active {text-decoration: none; color: #F7941D} A:hover {text-decoration: none; color: #000000} A.yellow:link {text-decoration: none; color: #FFFFFF} A.yellow:visited {text-decoration: none; color: #FFFFFF} A.yellow:active {text-decoration: none; color: #000000} A.yellow:hover {text-decoration: none; color: #E6E6E6} </style> <body bgcolor=3D\\\"#DADADA\\\" topmargin=3D\\\"4\\\"> <table width=3D\\\"600\\\" border=3D\\\"1\\\" cellspacing=3D\\\"0\\\" cellpadding=3D\\\"0\\\" alig= n=3D\\\"center\\\" bordercolor=3D\\\"#000066\\\" class=3D\\\"main\\\" bgcolor=3D\\\"#F2F2F2\\\"> <tr><td><table width=3D\\\"560\\\" align=3D\\\"center\\\" border=3D\\\"0\\\" cellspacing=3D= \\\"2\\\" cellpadding=3D\\\"8\\\"><tr><td> <p><b><font size=3D\\\"4\\\">Dear </font><font size=3D\\\"4\\\" color=3D\\\"#0000CC\\\">= HOMEOWNER,</font></b></p> </td></tr></table></td></tr><tr><td bgcolor=3D\\\"#000099\\\"><table width=3D\\\"= 600\\\" border=3D\\\"0\\\" cellspacing=3D\\\"6\\\" cellpadding=3D\\\"6\\\" class=3D\\\"main\\\"><tr><= td> <p align=3D\\\"center\\\"><b><font color=3D\\\"#FFFFFF\\\" size=3D\\\"3\\\">Interest rat= es are at their lowest point in 40 years!</font></b></p> </td></tr></table></td></tr> <tr><td><table width=3D\\\"590\\\" border=3D\\\"0\\\" cellspacing=3D\\\"2\\\" cellpadding=3D= \\\"4\\\" class=3D\\\"main\\\"><tr> <td width=3D\\\"50%\\\" valign=3D\\\"top\\\"> <div align=3D\\\"center\\\"> <b><font size=3D\\\"5\\\">Let us do the shopping for = you... AND IT'S FREE!</font></b><p><img src=3D\\\"http://61.129.81.74/pix2/im= ages/ad2.gif\\\" width=3D\\\"142\\\" height=3D\\\"218\\\"></p></div> </td><td width=3D\\\"50%\\\" valign=3D\\\"top\\\"> <font size=3D\\\"3\\\"><i><br>Our nationwide network of lenders have hundred= s of different loan programs to fit your current situation:</i><b><ul> <li>Refinance</li><li>Second Mortgage</li><li>Debt Consolidation</li><= li>Home Improvement</li><li>Purchase </li></ul></b><p></p> <p>Please <b><a href=3D\\\"http://rd.yahoo.com/dir/?http://www.8121919554= 75675676734203545847582013@61.129.81.78/pix2/mortgageform.htm\\\">CLICK HERE<= /a></b> to fill out a quick form. Your request will be transmitted to our = network of mortgage specialists.</p></font> </td></tr></table> <table width=3D\\\"600\\\" border=3D\\\"0\\\" cellspacing=3D\\\"2\\\" cellpadding=3D\\\"2\\\"><t= r><td bgcolor=3D\\\"#0D86FF\\\"><p>&nbsp;</p></td></tr></table> <table width=3D\\\"600\\\" border=3D\\\"0\\\" cellspacing=3D\\\"2\\\" cellpadding=3D\\\"8\\\" cl= ass=3D\\\"main\\\"><tr><td bgcolor=3D\\\"#0066CC\\\"> <div align=3D\\\"center\\\"><b><font size=3D\\\"2\\\">This service is <a href=3D\\\"h= ttp://rd.yahoo.com/dir/?http://www.812191956757575734203545847582013@61.12= 9.81.74/pix2/mortgageform.htm\\\" class=3D\\\"yellow\\\">100% FREE</a> to home owne= rs and new home buyers without any obligation.</font></b></div> </td></tr></table></td></tr></table> <table align=3D\\\"center\\\" width=3D\\\"600\\\" cellspacing=3D\\\"2\\\" cellpadding=3D\\\"2= \\\" border=3D\\\"0\\\" class=3D\\\"footer\\\"><tr> <td colspan=3D\\\"2\\\"><br> <font color=3D\\\"ED1C24\\\">Did you receive an email advertisement in error= ?</font> Our goal is to only target individuals who would like to take adv= antage of our offers. If you'd like to be removed from our mailing list, p= lease click on the link below. You will be removed immediately and automat= ically from all of our future mailings.<br> <br></td></tr><tr> <td>We protect all email addresses from other third= parties. Thank you. </td><td align=3D\\\"right\\\"><a href=3D\\\"http://rd.yahoo.com/dir/?http://61.1= 29.81.74/remove/remove.htm\\\">Please remove me.</a></td></tr></table> </body> </html>\",\n          \"From arry532@post.sk Mon Jun 24 17:48:26 2002 Return-Path: arry532@post.sk Delivery-Date: Wed Jun 5 19:57:38 2002 Received: from mandark.labs.netnoteinc.com ([213.105.180.140]) by dogma.slashnull.org (8.11.6/8.11.6) with ESMTP id g55IvY518815 for <jm@jmason.org>; Wed, 5 Jun 2002 19:57:35 +0100 Received: from mailhost.logali.com ([62.161.230.131]) by mandark.labs.netnoteinc.com (8.11.2/8.11.2) with ESMTP id g55IvK706184 for <jm@netnoteinc.com>; Wed, 5 Jun 2002 19:57:25 +0100 Received: from smtp.post.sk ([64.168.82.2]) by mailhost.logali.com (Lotus Domino Edition France 5.0.2c) with ESMTP id 2002060520495182:308 ; Wed, 5 Jun 2002 20:49:51 +0200 Message-Id: <000015d07eaf$00002aa0$000018cc@mxs.mail.ru> To: <Intelligence@mandark.labs.netnoteinc.com> From: \\\"ROMELIA\\\" <arry532@post.sk> Subject: best home mortgage rate MOFJN Date: Wed, 05 Jun 2002 12:53:49 -1800 MIME-Version: 1.0 Reply-To: arry532@post.sk X-Mailer: : Microsoft Outlook Express 5.00.2919.6700 X-Mimetrack: Itemize by SMTP Server on logali/LOGALI(Edition France 5.0.2c|8 =?iso-8859-1?q?f=E9vrier?= 2000) at 05/06/2002 20:49:52, Serialize by Router on logali/LOGALI(Edition France 5.0.2c|8 =?iso-8859-1?q?f=E9vrier?= 2000) at 05/06/2002 20:52:58, Serialize complete at 05/06/2002 20:52:58 Content-Type: text/plain; charset=\\\"Windows-1252\\\" X-Keywords: Content-Transfer-Encoding: 7bit Intelligence Bad Credit? Great! We want you! We want to refinance people that DO NOT have good credit. Have you had credit in the past? Good! Fill out this short form because we want to refinance your house! Poor credit is all we do! Let us Put Our Expertise to Work for You! http://wdBmWYjno1@agileconcepts.com/74205/ Erase http://ltgjSs5P9a@agileconcepts.com/optout.htm\",\n          \"From rssfeeds@jmason.org Thu Oct 3 12:25:13 2002 Return-Path: <rssfeeds@spamassassin.taint.org> Delivered-To: yyyy@localhost.spamassassin.taint.org Received: from localhost (jalapeno [127.0.0.1]) by jmason.org (Postfix) with ESMTP id 00C9D16F7B for <jm@localhost>; Thu, 3 Oct 2002 12:24:15 +0100 (IST) Received: from jalapeno [127.0.0.1] by localhost with IMAP (fetchmail-5.9.0) for jm@localhost (single-drop); Thu, 03 Oct 2002 12:24:15 +0100 (IST) Received: from dogma.slashnull.org (localhost [127.0.0.1]) by dogma.slashnull.org (8.11.6/8.11.6) with ESMTP id g9381vK20008 for <jm@jmason.org>; Thu, 3 Oct 2002 09:01:57 +0100 Message-Id: <200210030801.g9381vK20008@dogma.slashnull.org> To: yyyy@spamassassin.taint.org From: guardian <rssfeeds@spamassassin.taint.org> Subject: Iraq invasion a 'hair-trigger' away Date: Thu, 03 Oct 2002 08:01:57 -0000 Content-Type: text/plain; encoding=utf-8 URL: http://www.newsisfree.com/click/215,0,215/ Date: 2002-10-03T04:21:07+01:00 Washington has revealed its intention to use UN weapons inspections as a possible first step towards a military occupation of Iraq.\"\n        ],\n        \"semantic_type\": \"\",\n        \"description\": \"\"\n      }\n    },\n    {\n      \"column\": \"target\",\n      \"properties\": {\n        \"dtype\": \"number\",\n        \"std\": 0,\n        \"min\": 0,\n        \"max\": 1,\n        \"num_unique_values\": 2,\n        \"samples\": [\n          1,\n          0\n        ],\n        \"semantic_type\": \"\",\n        \"description\": \"\"\n      }\n    }\n  ]\n}"
            }
          },
          "metadata": {},
          "execution_count": 5
        }
      ],
      "source": [
        "df = pd.read_csv('/content/drive/MyDrive/spam_assassin.csv')\n",
        "df.head()"
      ]
    },
    {
      "cell_type": "code",
      "source": [
        "df['target'].value_counts()"
      ],
      "metadata": {
        "colab": {
          "base_uri": "https://localhost:8080/",
          "height": 178
        },
        "id": "gIZ_YGTMgY6v",
        "outputId": "439a3a4f-ad57-41ac-c262-515e25b0bf54"
      },
      "execution_count": null,
      "outputs": [
        {
          "output_type": "execute_result",
          "data": {
            "text/plain": [
              "target\n",
              "0    3900\n",
              "1    1896\n",
              "Name: count, dtype: int64"
            ],
            "text/html": [
              "<div>\n",
              "<style scoped>\n",
              "    .dataframe tbody tr th:only-of-type {\n",
              "        vertical-align: middle;\n",
              "    }\n",
              "\n",
              "    .dataframe tbody tr th {\n",
              "        vertical-align: top;\n",
              "    }\n",
              "\n",
              "    .dataframe thead th {\n",
              "        text-align: right;\n",
              "    }\n",
              "</style>\n",
              "<table border=\"1\" class=\"dataframe\">\n",
              "  <thead>\n",
              "    <tr style=\"text-align: right;\">\n",
              "      <th></th>\n",
              "      <th>count</th>\n",
              "    </tr>\n",
              "    <tr>\n",
              "      <th>target</th>\n",
              "      <th></th>\n",
              "    </tr>\n",
              "  </thead>\n",
              "  <tbody>\n",
              "    <tr>\n",
              "      <th>0</th>\n",
              "      <td>3900</td>\n",
              "    </tr>\n",
              "    <tr>\n",
              "      <th>1</th>\n",
              "      <td>1896</td>\n",
              "    </tr>\n",
              "  </tbody>\n",
              "</table>\n",
              "</div><br><label><b>dtype:</b> int64</label>"
            ]
          },
          "metadata": {},
          "execution_count": 6
        }
      ]
    },
    {
      "cell_type": "code",
      "source": [
        "df.info()"
      ],
      "metadata": {
        "colab": {
          "base_uri": "https://localhost:8080/"
        },
        "id": "YjdUkRMAhGle",
        "outputId": "7a7cfe44-3797-406d-8061-e18e36f2beab"
      },
      "execution_count": null,
      "outputs": [
        {
          "output_type": "stream",
          "name": "stdout",
          "text": [
            "<class 'pandas.core.frame.DataFrame'>\n",
            "RangeIndex: 5796 entries, 0 to 5795\n",
            "Data columns (total 2 columns):\n",
            " #   Column  Non-Null Count  Dtype \n",
            "---  ------  --------------  ----- \n",
            " 0   text    5796 non-null   object\n",
            " 1   target  5796 non-null   int64 \n",
            "dtypes: int64(1), object(1)\n",
            "memory usage: 90.7+ KB\n"
          ]
        }
      ]
    },
    {
      "cell_type": "code",
      "source": [
        "df.describe()"
      ],
      "metadata": {
        "colab": {
          "base_uri": "https://localhost:8080/",
          "height": 300
        },
        "id": "35zvMxdehOLW",
        "outputId": "e17b4d42-9658-4489-cf16-c1e4a1697976"
      },
      "execution_count": null,
      "outputs": [
        {
          "output_type": "execute_result",
          "data": {
            "text/plain": [
              "            target\n",
              "count  5796.000000\n",
              "mean      0.327122\n",
              "std       0.469203\n",
              "min       0.000000\n",
              "25%       0.000000\n",
              "50%       0.000000\n",
              "75%       1.000000\n",
              "max       1.000000"
            ],
            "text/html": [
              "\n",
              "  <div id=\"df-680519f4-e0c3-4c48-8b1d-1ed5b9d906ea\" class=\"colab-df-container\">\n",
              "    <div>\n",
              "<style scoped>\n",
              "    .dataframe tbody tr th:only-of-type {\n",
              "        vertical-align: middle;\n",
              "    }\n",
              "\n",
              "    .dataframe tbody tr th {\n",
              "        vertical-align: top;\n",
              "    }\n",
              "\n",
              "    .dataframe thead th {\n",
              "        text-align: right;\n",
              "    }\n",
              "</style>\n",
              "<table border=\"1\" class=\"dataframe\">\n",
              "  <thead>\n",
              "    <tr style=\"text-align: right;\">\n",
              "      <th></th>\n",
              "      <th>target</th>\n",
              "    </tr>\n",
              "  </thead>\n",
              "  <tbody>\n",
              "    <tr>\n",
              "      <th>count</th>\n",
              "      <td>5796.000000</td>\n",
              "    </tr>\n",
              "    <tr>\n",
              "      <th>mean</th>\n",
              "      <td>0.327122</td>\n",
              "    </tr>\n",
              "    <tr>\n",
              "      <th>std</th>\n",
              "      <td>0.469203</td>\n",
              "    </tr>\n",
              "    <tr>\n",
              "      <th>min</th>\n",
              "      <td>0.000000</td>\n",
              "    </tr>\n",
              "    <tr>\n",
              "      <th>25%</th>\n",
              "      <td>0.000000</td>\n",
              "    </tr>\n",
              "    <tr>\n",
              "      <th>50%</th>\n",
              "      <td>0.000000</td>\n",
              "    </tr>\n",
              "    <tr>\n",
              "      <th>75%</th>\n",
              "      <td>1.000000</td>\n",
              "    </tr>\n",
              "    <tr>\n",
              "      <th>max</th>\n",
              "      <td>1.000000</td>\n",
              "    </tr>\n",
              "  </tbody>\n",
              "</table>\n",
              "</div>\n",
              "    <div class=\"colab-df-buttons\">\n",
              "\n",
              "  <div class=\"colab-df-container\">\n",
              "    <button class=\"colab-df-convert\" onclick=\"convertToInteractive('df-680519f4-e0c3-4c48-8b1d-1ed5b9d906ea')\"\n",
              "            title=\"Convert this dataframe to an interactive table.\"\n",
              "            style=\"display:none;\">\n",
              "\n",
              "  <svg xmlns=\"http://www.w3.org/2000/svg\" height=\"24px\" viewBox=\"0 -960 960 960\">\n",
              "    <path d=\"M120-120v-720h720v720H120Zm60-500h600v-160H180v160Zm220 220h160v-160H400v160Zm0 220h160v-160H400v160ZM180-400h160v-160H180v160Zm440 0h160v-160H620v160ZM180-180h160v-160H180v160Zm440 0h160v-160H620v160Z\"/>\n",
              "  </svg>\n",
              "    </button>\n",
              "\n",
              "  <style>\n",
              "    .colab-df-container {\n",
              "      display:flex;\n",
              "      gap: 12px;\n",
              "    }\n",
              "\n",
              "    .colab-df-convert {\n",
              "      background-color: #E8F0FE;\n",
              "      border: none;\n",
              "      border-radius: 50%;\n",
              "      cursor: pointer;\n",
              "      display: none;\n",
              "      fill: #1967D2;\n",
              "      height: 32px;\n",
              "      padding: 0 0 0 0;\n",
              "      width: 32px;\n",
              "    }\n",
              "\n",
              "    .colab-df-convert:hover {\n",
              "      background-color: #E2EBFA;\n",
              "      box-shadow: 0px 1px 2px rgba(60, 64, 67, 0.3), 0px 1px 3px 1px rgba(60, 64, 67, 0.15);\n",
              "      fill: #174EA6;\n",
              "    }\n",
              "\n",
              "    .colab-df-buttons div {\n",
              "      margin-bottom: 4px;\n",
              "    }\n",
              "\n",
              "    [theme=dark] .colab-df-convert {\n",
              "      background-color: #3B4455;\n",
              "      fill: #D2E3FC;\n",
              "    }\n",
              "\n",
              "    [theme=dark] .colab-df-convert:hover {\n",
              "      background-color: #434B5C;\n",
              "      box-shadow: 0px 1px 3px 1px rgba(0, 0, 0, 0.15);\n",
              "      filter: drop-shadow(0px 1px 2px rgba(0, 0, 0, 0.3));\n",
              "      fill: #FFFFFF;\n",
              "    }\n",
              "  </style>\n",
              "\n",
              "    <script>\n",
              "      const buttonEl =\n",
              "        document.querySelector('#df-680519f4-e0c3-4c48-8b1d-1ed5b9d906ea button.colab-df-convert');\n",
              "      buttonEl.style.display =\n",
              "        google.colab.kernel.accessAllowed ? 'block' : 'none';\n",
              "\n",
              "      async function convertToInteractive(key) {\n",
              "        const element = document.querySelector('#df-680519f4-e0c3-4c48-8b1d-1ed5b9d906ea');\n",
              "        const dataTable =\n",
              "          await google.colab.kernel.invokeFunction('convertToInteractive',\n",
              "                                                    [key], {});\n",
              "        if (!dataTable) return;\n",
              "\n",
              "        const docLinkHtml = 'Like what you see? Visit the ' +\n",
              "          '<a target=\"_blank\" href=https://colab.research.google.com/notebooks/data_table.ipynb>data table notebook</a>'\n",
              "          + ' to learn more about interactive tables.';\n",
              "        element.innerHTML = '';\n",
              "        dataTable['output_type'] = 'display_data';\n",
              "        await google.colab.output.renderOutput(dataTable, element);\n",
              "        const docLink = document.createElement('div');\n",
              "        docLink.innerHTML = docLinkHtml;\n",
              "        element.appendChild(docLink);\n",
              "      }\n",
              "    </script>\n",
              "  </div>\n",
              "\n",
              "\n",
              "<div id=\"df-20328710-bb13-459a-a63c-0360894b50c2\">\n",
              "  <button class=\"colab-df-quickchart\" onclick=\"quickchart('df-20328710-bb13-459a-a63c-0360894b50c2')\"\n",
              "            title=\"Suggest charts\"\n",
              "            style=\"display:none;\">\n",
              "\n",
              "<svg xmlns=\"http://www.w3.org/2000/svg\" height=\"24px\"viewBox=\"0 0 24 24\"\n",
              "     width=\"24px\">\n",
              "    <g>\n",
              "        <path d=\"M19 3H5c-1.1 0-2 .9-2 2v14c0 1.1.9 2 2 2h14c1.1 0 2-.9 2-2V5c0-1.1-.9-2-2-2zM9 17H7v-7h2v7zm4 0h-2V7h2v10zm4 0h-2v-4h2v4z\"/>\n",
              "    </g>\n",
              "</svg>\n",
              "  </button>\n",
              "\n",
              "<style>\n",
              "  .colab-df-quickchart {\n",
              "      --bg-color: #E8F0FE;\n",
              "      --fill-color: #1967D2;\n",
              "      --hover-bg-color: #E2EBFA;\n",
              "      --hover-fill-color: #174EA6;\n",
              "      --disabled-fill-color: #AAA;\n",
              "      --disabled-bg-color: #DDD;\n",
              "  }\n",
              "\n",
              "  [theme=dark] .colab-df-quickchart {\n",
              "      --bg-color: #3B4455;\n",
              "      --fill-color: #D2E3FC;\n",
              "      --hover-bg-color: #434B5C;\n",
              "      --hover-fill-color: #FFFFFF;\n",
              "      --disabled-bg-color: #3B4455;\n",
              "      --disabled-fill-color: #666;\n",
              "  }\n",
              "\n",
              "  .colab-df-quickchart {\n",
              "    background-color: var(--bg-color);\n",
              "    border: none;\n",
              "    border-radius: 50%;\n",
              "    cursor: pointer;\n",
              "    display: none;\n",
              "    fill: var(--fill-color);\n",
              "    height: 32px;\n",
              "    padding: 0;\n",
              "    width: 32px;\n",
              "  }\n",
              "\n",
              "  .colab-df-quickchart:hover {\n",
              "    background-color: var(--hover-bg-color);\n",
              "    box-shadow: 0 1px 2px rgba(60, 64, 67, 0.3), 0 1px 3px 1px rgba(60, 64, 67, 0.15);\n",
              "    fill: var(--button-hover-fill-color);\n",
              "  }\n",
              "\n",
              "  .colab-df-quickchart-complete:disabled,\n",
              "  .colab-df-quickchart-complete:disabled:hover {\n",
              "    background-color: var(--disabled-bg-color);\n",
              "    fill: var(--disabled-fill-color);\n",
              "    box-shadow: none;\n",
              "  }\n",
              "\n",
              "  .colab-df-spinner {\n",
              "    border: 2px solid var(--fill-color);\n",
              "    border-color: transparent;\n",
              "    border-bottom-color: var(--fill-color);\n",
              "    animation:\n",
              "      spin 1s steps(1) infinite;\n",
              "  }\n",
              "\n",
              "  @keyframes spin {\n",
              "    0% {\n",
              "      border-color: transparent;\n",
              "      border-bottom-color: var(--fill-color);\n",
              "      border-left-color: var(--fill-color);\n",
              "    }\n",
              "    20% {\n",
              "      border-color: transparent;\n",
              "      border-left-color: var(--fill-color);\n",
              "      border-top-color: var(--fill-color);\n",
              "    }\n",
              "    30% {\n",
              "      border-color: transparent;\n",
              "      border-left-color: var(--fill-color);\n",
              "      border-top-color: var(--fill-color);\n",
              "      border-right-color: var(--fill-color);\n",
              "    }\n",
              "    40% {\n",
              "      border-color: transparent;\n",
              "      border-right-color: var(--fill-color);\n",
              "      border-top-color: var(--fill-color);\n",
              "    }\n",
              "    60% {\n",
              "      border-color: transparent;\n",
              "      border-right-color: var(--fill-color);\n",
              "    }\n",
              "    80% {\n",
              "      border-color: transparent;\n",
              "      border-right-color: var(--fill-color);\n",
              "      border-bottom-color: var(--fill-color);\n",
              "    }\n",
              "    90% {\n",
              "      border-color: transparent;\n",
              "      border-bottom-color: var(--fill-color);\n",
              "    }\n",
              "  }\n",
              "</style>\n",
              "\n",
              "  <script>\n",
              "    async function quickchart(key) {\n",
              "      const quickchartButtonEl =\n",
              "        document.querySelector('#' + key + ' button');\n",
              "      quickchartButtonEl.disabled = true;  // To prevent multiple clicks.\n",
              "      quickchartButtonEl.classList.add('colab-df-spinner');\n",
              "      try {\n",
              "        const charts = await google.colab.kernel.invokeFunction(\n",
              "            'suggestCharts', [key], {});\n",
              "      } catch (error) {\n",
              "        console.error('Error during call to suggestCharts:', error);\n",
              "      }\n",
              "      quickchartButtonEl.classList.remove('colab-df-spinner');\n",
              "      quickchartButtonEl.classList.add('colab-df-quickchart-complete');\n",
              "    }\n",
              "    (() => {\n",
              "      let quickchartButtonEl =\n",
              "        document.querySelector('#df-20328710-bb13-459a-a63c-0360894b50c2 button');\n",
              "      quickchartButtonEl.style.display =\n",
              "        google.colab.kernel.accessAllowed ? 'block' : 'none';\n",
              "    })();\n",
              "  </script>\n",
              "</div>\n",
              "\n",
              "    </div>\n",
              "  </div>\n"
            ],
            "application/vnd.google.colaboratory.intrinsic+json": {
              "type": "dataframe",
              "summary": "{\n  \"name\": \"df\",\n  \"rows\": 8,\n  \"fields\": [\n    {\n      \"column\": \"target\",\n      \"properties\": {\n        \"dtype\": \"number\",\n        \"std\": 2049.054258325272,\n        \"min\": 0.0,\n        \"max\": 5796.0,\n        \"num_unique_values\": 5,\n        \"samples\": [\n          0.32712215320910976,\n          1.0,\n          0.4692027636252054\n        ],\n        \"semantic_type\": \"\",\n        \"description\": \"\"\n      }\n    }\n  ]\n}"
            }
          },
          "metadata": {},
          "execution_count": 8
        }
      ]
    },
    {
      "cell_type": "code",
      "source": [
        "df.isnull().sum()"
      ],
      "metadata": {
        "colab": {
          "base_uri": "https://localhost:8080/",
          "height": 146
        },
        "id": "p8iG6rWmhQvq",
        "outputId": "54ffc148-9df8-443c-c06c-3b5e8660a3e9"
      },
      "execution_count": null,
      "outputs": [
        {
          "output_type": "execute_result",
          "data": {
            "text/plain": [
              "text      0\n",
              "target    0\n",
              "dtype: int64"
            ],
            "text/html": [
              "<div>\n",
              "<style scoped>\n",
              "    .dataframe tbody tr th:only-of-type {\n",
              "        vertical-align: middle;\n",
              "    }\n",
              "\n",
              "    .dataframe tbody tr th {\n",
              "        vertical-align: top;\n",
              "    }\n",
              "\n",
              "    .dataframe thead th {\n",
              "        text-align: right;\n",
              "    }\n",
              "</style>\n",
              "<table border=\"1\" class=\"dataframe\">\n",
              "  <thead>\n",
              "    <tr style=\"text-align: right;\">\n",
              "      <th></th>\n",
              "      <th>0</th>\n",
              "    </tr>\n",
              "  </thead>\n",
              "  <tbody>\n",
              "    <tr>\n",
              "      <th>text</th>\n",
              "      <td>0</td>\n",
              "    </tr>\n",
              "    <tr>\n",
              "      <th>target</th>\n",
              "      <td>0</td>\n",
              "    </tr>\n",
              "  </tbody>\n",
              "</table>\n",
              "</div><br><label><b>dtype:</b> int64</label>"
            ]
          },
          "metadata": {},
          "execution_count": 10
        }
      ]
    },
    {
      "cell_type": "code",
      "source": [
        "df.duplicated().sum()"
      ],
      "metadata": {
        "colab": {
          "base_uri": "https://localhost:8080/"
        },
        "id": "WBasLRAthVyg",
        "outputId": "ad6f1d41-490c-4b8b-e4d3-673577da3c18"
      },
      "execution_count": null,
      "outputs": [
        {
          "output_type": "execute_result",
          "data": {
            "text/plain": [
              "467"
            ]
          },
          "metadata": {},
          "execution_count": 11
        }
      ]
    },
    {
      "cell_type": "code",
      "source": [
        "import matplotlib.pyplot as plt\n",
        "plt.pie(df['target'].value_counts(),labels=['ham','spam'],autopct='%0.2f' )"
      ],
      "metadata": {
        "colab": {
          "base_uri": "https://localhost:8080/",
          "height": 510
        },
        "id": "be_j-npKhb4j",
        "outputId": "a957970c-3dbf-4f47-87ab-9a2c69c12331"
      },
      "execution_count": null,
      "outputs": [
        {
          "output_type": "execute_result",
          "data": {
            "text/plain": [
              "([<matplotlib.patches.Wedge at 0x78b8922c1a50>,\n",
              "  <matplotlib.patches.Wedge at 0x78b8922c1c30>],\n",
              " [Text(-0.5684827465619307, 0.9417151198007835, 'ham'),\n",
              "  Text(0.56848274656193, -0.9417151198007838, 'spam')],\n",
              " [Text(-0.3100814981246894, 0.5136627926186091, '67.29'),\n",
              "  Text(0.31008149812468905, -0.5136627926186094, '32.71')])"
            ]
          },
          "metadata": {},
          "execution_count": 12
        },
        {
          "output_type": "display_data",
          "data": {
            "text/plain": [
              "<Figure size 640x480 with 1 Axes>"
            ],
            "image/png": "[encoded data removed]"
          },
          "metadata": {}
        }
      ]
    },
    {
      "cell_type": "code",
      "source": [
        "import nltk\n",
        "nltk.download('punkt')"
      ],
      "metadata": {
        "colab": {
          "base_uri": "https://localhost:8080/"
        },
        "id": "KCRN_B7fhpUQ",
        "outputId": "bb087be1-1ad5-4e55-8acb-0a6cb948f957"
      },
      "execution_count": null,
      "outputs": [
        {
          "output_type": "stream",
          "name": "stderr",
          "text": [
            "[nltk_data] Downloading package punkt to /root/nltk_data...\n",
            "[nltk_data]   Unzipping tokenizers/punkt.zip.\n"
          ]
        },
        {
          "output_type": "execute_result",
          "data": {
            "text/plain": [
              "True"
            ]
          },
          "metadata": {},
          "execution_count": 13
        }
      ]
    },
    {
      "cell_type": "code",
      "source": [
        "\n",
        "from nltk.corpus import stopwords\n",
        "import string\n",
        "from nltk.stem.porter import PorterStemmer"
      ],
      "metadata": {
        "id": "2rmPXDsChtSx"
      },
      "execution_count": null,
      "outputs": []
    },
    {
      "cell_type": "code",
      "source": [
        "import nltk\n",
        "nltk.download('stopwords')"
      ],
      "metadata": {
        "colab": {
          "base_uri": "https://localhost:8080/"
        },
        "id": "z8k9veachwCW",
        "outputId": "f9be4ae5-5b21-4706-d779-61a9f0f3bc35"
      },
      "execution_count": null,
      "outputs": [
        {
          "output_type": "stream",
          "name": "stderr",
          "text": [
            "[nltk_data] Downloading package stopwords to /root/nltk_data...\n",
            "[nltk_data]   Unzipping corpora/stopwords.zip.\n"
          ]
        },
        {
          "output_type": "execute_result",
          "data": {
            "text/plain": [
              "True"
            ]
          },
          "metadata": {},
          "execution_count": 15
        }
      ]
    },
    {
      "cell_type": "code",
      "source": [
        "def transform_text(text):\n",
        "    text = text.lower()\n",
        "    text = nltk.word_tokenize(text)\n",
        "\n",
        "    y = []\n",
        "    for i in text:\n",
        "        if i.isalnum():\n",
        "            y.append(i)\n",
        "\n",
        "    text = y[:]\n",
        "    y.clear()\n",
        "\n",
        "    for i in text:\n",
        "        if i not in stopwords.words('english') and i not in string.punctuation:\n",
        "            y.append(i)\n",
        "\n",
        "    text = y[:]\n",
        "    y.clear()\n",
        "\n",
        "    for i in text:\n",
        "        y.append(PorterStemmer().stem(i))\n",
        "    return ' '.join(y)"
      ],
      "metadata": {
        "id": "fYdJUiSZhzWn"
      },
      "execution_count": null,
      "outputs": []
    },
    {
      "cell_type": "code",
      "source": [
        "df['transformed_text'] = df['text'].apply(transform_text)"
      ],
      "metadata": {
        "id": "82YxGR3-jFxo"
      },
      "execution_count": null,
      "outputs": []
    },
    {
      "cell_type": "code",
      "source": [
        "from sklearn.feature_extraction.text import CountVectorizer\n",
        "cv =  CountVectorizer()"
      ],
      "metadata": {
        "id": "Uls2Prf8h76D"
      },
      "execution_count": null,
      "outputs": []
    },
    {
      "cell_type": "code",
      "source": [
        "X = cv.fit_transform(df['transformed_text']).toarray()"
      ],
      "metadata": {
        "id": "Hz2nCeBTjTEB"
      },
      "execution_count": null,
      "outputs": []
    },
    {
      "cell_type": "code",
      "source": [
        "y = df['target'].values"
      ],
      "metadata": {
        "id": "rOf6zg6ZjXII"
      },
      "execution_count": null,
      "outputs": []
    },
    {
      "cell_type": "code",
      "source": [
        "from sklearn.model_selection import train_test_split\n",
        "X_train,X_test,y_train,y_test = train_test_split(X,y,test_size=0.2,random_state=2)"
      ],
      "metadata": {
        "id": "0omAg4r5n6UX"
      },
      "execution_count": null,
      "outputs": []
    },
    {
      "cell_type": "code",
      "source": [
        "from sklearn.naive_bayes import MultinomialNB\n",
        "from sklearn.metrics import accuracy_score,confusion_matrix,precision_score\n",
        "\n",
        "mnb = MultinomialNB()\n",
        "\n",
        "mnb.fit(X_train,y_train)\n",
        "y_pred1 = mnb.predict(X_test)\n",
        "print(accuracy_score(y_test,y_pred1))\n",
        "print(confusion_matrix(y_test,y_pred1))\n",
        "print(precision_score(y_test,y_pred1))"
      ],
      "metadata": {
        "colab": {
          "base_uri": "https://localhost:8080/"
        },
        "id": "fu9obFKTn-Dc",
        "outputId": "1d9bd7c6-ff27-4c84-ebf6-6f5dd544013b"
      },
      "execution_count": null,
      "outputs": [
        {
          "output_type": "stream",
          "name": "stdout",
          "text": [
            "0.9646551724137931\n",
            "[[805   2]\n",
            " [ 39 314]]\n",
            "0.9936708860759493\n"
          ]
        }
      ]
    }
  ],
  "metadata": {
    "colab": {
      "provenance": [],
      "include_colab_link": true
    },
    "kernelspec": {
      "display_name": "Python 3",
      "name": "python3"
    },
    "language_info": {
      "name": "python"
    }
  },
  "nbformat": 4,
  "nbformat_minor": 0
}